{
  "metadata": {
    "language_info": {
      "codemirror_mode": {
        "name": "python",
        "version": 3
      },
      "file_extension": ".py",
      "mimetype": "text/x-python",
      "name": "python",
      "nbconvert_exporter": "python",
      "pygments_lexer": "ipython3",
      "version": "3.8"
    },
    "kernelspec": {
      "name": "python",
      "display_name": "Python (Pyodide)",
      "language": "python"
    }
  },
  "nbformat_minor": 4,
  "nbformat": 4,
  "cells": [
    {
      "cell_type": "markdown",
      "source": "# Mean-Variance-Standard-Deviation Calculator",
      "metadata": {}
    },
    {
      "cell_type": "markdown",
      "source": "View my project on [Replit](https://replit.com/@aadiiy/mean-variance-standard-deviation-calculator#mean_var_std.py)",
      "metadata": {}
    },
    {
      "cell_type": "markdown",
      "source": "<title>FreeCodeCamp Data Analysis With Python Project</title>",
      "metadata": {}
    },
    {
      "cell_type": "markdown",
      "source": "* Create a function named calculate().\n* Uses Numpy to output the mean, variance, standard deviation, max, min, and sum of the rows, columns, and elements in a 3 x 3 matrix.\n* The input of the function should be a list containing 9 digits.\n* If a list containing less than 9 elements is passed into the function, it should raise a ValueError.\n* The function should convert the list into a 3 x 3 Numpy array, and then return a dictionary containing the mean, variance, standard deviation, max, min, and sum along both axes and for the flattened matrix.",
      "metadata": {}
    },
    {
      "cell_type": "markdown",
      "source": "[View the original FreeCodeCamp project description](https://www.freecodecamp.org/learn/data-analysis-with-python/data-analysis-with-python-projects/mean-variance-standard-deviation-calculator)",
      "metadata": {}
    },
    {
      "cell_type": "markdown",
      "source": "## Solution",
      "metadata": {}
    },
    {
      "cell_type": "code",
      "source": "import numpy as np",
      "metadata": {
        "trusted": true
      },
      "execution_count": 1,
      "outputs": []
    },
    {
      "cell_type": "code",
      "source": "from pprint import pprint",
      "metadata": {
        "trusted": true
      },
      "execution_count": 2,
      "outputs": []
    },
    {
      "cell_type": "code",
      "source": "def calculate(list):\n    if len(list) != 9:\n        raise ValueError('List must contain nine numbers.')\n    else:\n        array = np.array(list).reshape(3, 3)\n        calculations = {'mean': '',\n                       'var': '',\n                       'std': '',\n                       'max': '',\n                       'min': '',\n                       'sum': ''}\n        mean0 = array.mean(axis=0)\n        mean1 = array.mean(axis=1)\n        meanf = (array.flatten()).mean()\n        var0 = array.var(axis=0)\n        var1 = array.var(axis=1)\n        varf = (array.flatten()).var()\n        std0 = array.std(axis=0)\n        std1 = array.std(axis=1)\n        stdf = (array.flatten()).std()\n        max0 = array.max(axis=0)\n        max1 = array.max(axis=1)\n        maxf = (array.flatten()).max()\n        min0 = array.min(axis=0)\n        min1 = array.min(axis=1)\n        minf = (array.flatten()).min()\n        sum0 = array.sum(axis=0)\n        sum1 = array.sum(axis=1)\n        sumf = (array.flatten()).sum()\n        calculations = dict({\n            'mean': [mean0.tolist(), mean1.tolist(), meanf.tolist()],\n            'variance': [var0.tolist(), var1.tolist(), varf.tolist()],\n            'standard deviation': [std0.tolist(), std1.tolist(), stdf.tolist()],\n            'max': [max0.tolist(), max1.tolist(), maxf.tolist()],\n            'min': [min0.tolist(), min1.tolist(), minf.tolist()],\n            'sum': [sum0.tolist(), sum1.tolist(), sumf.tolist()]\n        })\n        return calculations",
      "metadata": {
        "trusted": true
      },
      "execution_count": 3,
      "outputs": []
    },
    {
      "cell_type": "code",
      "source": "pprint(calculate([1,2,3,4,5,6,7,8,9]))",
      "metadata": {
        "trusted": true
      },
      "execution_count": 4,
      "outputs": [
        {
          "name": "stdout",
          "text": "{'max': [[7, 8, 9], [3, 6, 9], 9],\n 'mean': [[4.0, 5.0, 6.0], [2.0, 5.0, 8.0], 5.0],\n 'min': [[1, 2, 3], [1, 4, 7], 1],\n 'standard deviation': [[2.449489742783178,\n                         2.449489742783178,\n                         2.449489742783178],\n                        [0.816496580927726,\n                         0.816496580927726,\n                         0.816496580927726],\n                        2.581988897471611],\n 'sum': [[12, 15, 18], [6, 15, 24], 45],\n 'variance': [[6.0, 6.0, 6.0],\n              [0.6666666666666666, 0.6666666666666666, 0.6666666666666666],\n              6.666666666666667]}\n",
          "output_type": "stream"
        }
      ]
    },
    {
      "cell_type": "markdown",
      "source": "## Test",
      "metadata": {}
    },
    {
      "cell_type": "markdown",
      "source": "[The test code provided by FreeCodeCamp](https://replit.com/github/freeCodeCamp/boilerplate-mean-variance-standard-deviation-calculator) is modified to make it runnable in notebook.",
      "metadata": {}
    },
    {
      "cell_type": "code",
      "source": "import unittest",
      "metadata": {
        "trusted": true
      },
      "execution_count": 5,
      "outputs": []
    },
    {
      "cell_type": "code",
      "source": "import unittest\n\n# the test case\nclass UnitTests(unittest.TestCase):\n    def test_calculate(self):\n        actual = calculate([2,6,2,8,4,0,1,5,7])\n        expected = {\n            'mean': [\n                [3.6666666666666665, 5.0, 3.0], \n                [3.3333333333333335, 4.0, 4.333333333333333], \n                3.888888888888889\n            ], \n            'variance': [\n                [9.555555555555557, 0.6666666666666666, 8.666666666666666], \n                [3.555555555555556, 10.666666666666666, 6.222222222222221], \n                6.987654320987654\n            ], \n            'standard deviation': [\n                [3.091206165165235, 0.816496580927726, 2.943920288775949], \n                [1.8856180831641267, 3.265986323710904, 2.494438257849294], \n                2.6434171674156266\n            ], \n            'max': [\n                [8, 6, 7], \n                [6, 8, 7], \n                8\n            ], \n            'min': [\n                [1, 4, 0], \n                [2, 0, 1], \n                0\n            ], \n            'sum': [\n                [11, 15, 9], \n                [10, 12, 13], \n                35\n            ]\n        }\n        self.assertAlmostEqual(\n            actual, \n            expected, \n            \"Expected different output when calling 'calculate()' with '[2,6,2,8,4,0,1,5,7]'\")\n\n    def test_calculate2(self):\n        actual = calculate([9,1,5,3,3,3,2,9,0])\n        expected = {\n            'mean': [\n                [4.666666666666667, 4.333333333333333, 2.6666666666666665], \n                [5.0, 3.0, 3.6666666666666665], \n                3.888888888888889], \n            'variance': [\n                [9.555555555555555, 11.555555555555557, 4.222222222222222],\n                [10.666666666666666, 0.0, 14.888888888888891], \n                9.209876543209875], \n            'standard deviation': [\n                [3.0912061651652345, 3.39934634239519, 2.0548046676563256], \n                [3.265986323710904, 0.0, 3.8586123009300755], \n                3.0347778408328137\n            ], \n            'max': [\n                [9, 9, 5], \n                [9, 3, 9], \n                9\n            ], \n            'min': [\n                [2, 1, 0], \n                [1, 3, 0], \n                0\n            ], \n            'sum': [\n                [14, 13, 8], \n                [15, 9, 11], \n                35\n            ]\n        }\n        self.assertAlmostEqual(\n            actual, \n            expected, \n            \"Expected different output when calling 'calculate()' with '[9,1,5,3,3,3,2,9,0]'\")\n    \n    def test_calculate_with_few_digits(self):\n        self.assertRaisesRegex(\n            ValueError, \n            \"List must contain nine numbers.\", \n            calculate, \n            [\n                2,\n                6,\n                2,\n                8,\n                4,\n                0,\n                1,\n            ]\n        )",
      "metadata": {
        "trusted": true
      },
      "execution_count": 6,
      "outputs": []
    },
    {
      "cell_type": "code",
      "source": "if __name__ == \"__main__\":\n    unittest.main(argv=[\"first-arg-is-ignored\"], exit=False)",
      "metadata": {
        "trusted": true
      },
      "execution_count": 7,
      "outputs": [
        {
          "name": "stderr",
          "text": "...\n----------------------------------------------------------------------\nRan 3 tests in 0.067s\n\nOK\n",
          "output_type": "stream"
        }
      ]
    }
  ]
}